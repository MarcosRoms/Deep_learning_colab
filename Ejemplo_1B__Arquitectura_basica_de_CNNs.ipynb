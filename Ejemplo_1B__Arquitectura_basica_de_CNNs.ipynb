{
  "cells": [
    {
      "cell_type": "markdown",
      "metadata": {
        "id": "view-in-github",
        "colab_type": "text"
      },
      "source": [
        "<a href=\"https://colab.research.google.com/github/MarcosRoms/Deep_learning_colab/blob/diplomado/Ejemplo_1B__Arquitectura_basica_de_CNNs.ipynb\" target=\"_parent\"><img src=\"https://colab.research.google.com/assets/colab-badge.svg\" alt=\"Open In Colab\"/></a>"
      ]
    },
    {
      "cell_type": "markdown",
      "metadata": {
        "id": "1F9sFF9TfEOn"
      },
      "source": [
        "## Práctica 1.2: Arquitectura básica de una CNN\n",
        "- **Objetivo**: Comprender la arquitectura básica de una CNN.\n",
        "- **Descripción**: Implementa una CNN básica utilizando keras que clasifique imágenes del dataset MNIST.\n"
      ]
    },
    {
      "cell_type": "markdown",
      "metadata": {
        "id": "wj_B9x9wfEOp"
      },
      "source": [
        "## Ejemplo 1:\n",
        "\n",
        "Para este ejemplo se puede usar la herramienta Netron para la visualización de la CNN"
      ]
    },
    {
      "cell_type": "markdown",
      "metadata": {
        "id": "DLjWyBvCfEOp"
      },
      "source": [
        "Este ejercicio consiste en replicar la arquitectura básica de la CNN LeNet 5\n",
        "\n",
        "| Layer          | Feature Map | Size   | Kernel Size | Stride | Activation |\n",
        "|----------------|-------------|--------|-------------|--------|------------|\n",
        "| Input          | Image       | 1      | 32x32       | -      | -          |\n",
        "| 1 Convolution  | 6           | 28x28  | 5x5         | 1      | tanh       |\n",
        "| 2 Average Pooling | 6        | 14x14  | 2x2         | 2      | tanh       |\n",
        "| 3 Convolution  | 16          | 10x10  | 5x5         | 1      | tanh       |\n",
        "| 4 Average Pooling | 16       | 5x5    | 2x2         | 2      | tanh       |\n",
        "| 5 Convolution  | 120         | 1x1    | 5x5         | 1      | tanh       |\n",
        "| 6 FC           | -           | 84     | -           | -      | tanh       |\n",
        "| Output FC      | -           | 10     | -           | -      | softmax    |\n",
        "\n",
        "*Summarized table for LeNet-5 Architecture*\n"
      ]
    },
    {
      "cell_type": "code",
      "execution_count": 1,
      "metadata": {
        "colab": {
          "base_uri": "https://localhost:8080/"
        },
        "id": "h-xAZL3jfEOq",
        "outputId": "affa6845-4c82-449e-87c6-eebeb6387b5b"
      },
      "outputs": [
        {
          "output_type": "stream",
          "name": "stdout",
          "text": [
            "Model: \"sequential\"\n",
            "_________________________________________________________________\n",
            " Layer (type)                Output Shape              Param #   \n",
            "=================================================================\n",
            " conv2d (Conv2D)             (None, 28, 28, 6)         156       \n",
            "                                                                 \n",
            " average_pooling2d (Average  (None, 14, 14, 6)         0         \n",
            " Pooling2D)                                                      \n",
            "                                                                 \n",
            " conv2d_1 (Conv2D)           (None, 10, 10, 16)        2416      \n",
            "                                                                 \n",
            " average_pooling2d_1 (Avera  (None, 5, 5, 16)          0         \n",
            " gePooling2D)                                                    \n",
            "                                                                 \n",
            " conv2d_2 (Conv2D)           (None, 1, 1, 120)         48120     \n",
            "                                                                 \n",
            " flatten (Flatten)           (None, 120)               0         \n",
            "                                                                 \n",
            " dense (Dense)               (None, 84)                10164     \n",
            "                                                                 \n",
            " dense_1 (Dense)             (None, 10)                850       \n",
            "                                                                 \n",
            "=================================================================\n",
            "Total params: 61706 (241.04 KB)\n",
            "Trainable params: 61706 (241.04 KB)\n",
            "Non-trainable params: 0 (0.00 Byte)\n",
            "_________________________________________________________________\n"
          ]
        }
      ],
      "source": [
        "import tensorflow as tf\n",
        "from tensorflow.keras import layers, models, Input\n",
        "\n",
        "# Definir la arquitectura de la CNN similar a LeNet-5\n",
        "model = models.Sequential([\n",
        "    # Especificar explícitamente la forma de entrada\n",
        "    Input(shape=(32, 32, 1)),\n",
        "    # Primera capa convolucional con 6 filtros de tamaño 5x5 y función de activación tanh\n",
        "    layers.Conv2D(6, (5,5), activation='tanh', padding = 'valid', strides=1),\n",
        "    # Capa de pooling promedio con tamaño de ventana 2x2 y stride 2\n",
        "    layers.AveragePooling2D(pool_size=(2,2), strides=2),\n",
        "    # Segunda capa convolucional con 16 filtros de tamaño 5x5 y función de activación tanh\n",
        "    layers.Conv2D(16, (5,5), activation='tanh', padding = 'valid', strides=1),\n",
        "    # Segunda capa de pooling promedio con tamaño de ventana 2x2 y stride 2\n",
        "    layers.AveragePooling2D(pool_size=(2, 2), strides=2),\n",
        "    # Tercera capa convolucional con 120 filtros de tamaño 5x5 y función de activación tanh\n",
        "    layers.Conv2D(120, (5, 5), activation='tanh', padding='valid', strides=1),\n",
        "    # Aplanar las salidas para conectarlas a las capas densas\n",
        "    layers.Flatten(),\n",
        "    # Primera capa densa con 84 neuronas y función de activación tanh\n",
        "    layers.Dense(84, activation='tanh'),\n",
        "    # Capa de salida con 10 neuronas (una por cada clase) y función de activación softmax\n",
        "    layers.Dense(10, activation='softmax')\n",
        "])\n",
        "\n",
        "# Guardar el modelo en un archivo .h5\n",
        "model.save('lenet5_model.keras')\n",
        "\n",
        "# Mostrar la arquitectura del modelo\n",
        "model.summary()\n"
      ]
    },
    {
      "cell_type": "markdown",
      "metadata": {
        "id": "-ct5MovofEOr"
      },
      "source": [
        "## No solo podemos tener arquitecturas secuenciales, podemos realizar multiples configuraciones\n"
      ]
    },
    {
      "cell_type": "code",
      "execution_count": 2,
      "metadata": {
        "colab": {
          "base_uri": "https://localhost:8080/"
        },
        "id": "a5ExSRahfEOr",
        "outputId": "acbc7c73-f613-45c3-bdca-39b93dad505f"
      },
      "outputs": [
        {
          "output_type": "stream",
          "name": "stdout",
          "text": [
            "Model: \"model\"\n",
            "__________________________________________________________________________________________________\n",
            " Layer (type)                Output Shape                 Param #   Connected to                  \n",
            "==================================================================================================\n",
            " input_2 (InputLayer)        [(None, 28, 28, 1)]          0         []                            \n",
            "                                                                                                  \n",
            " conv2d_3 (Conv2D)           (None, 28, 28, 32)           320       ['input_2[0][0]']             \n",
            "                                                                                                  \n",
            " conv2d_4 (Conv2D)           (None, 28, 28, 32)           832       ['input_2[0][0]']             \n",
            "                                                                                                  \n",
            " max_pooling2d_3 (MaxPoolin  (None, 14, 14, 32)           0         ['conv2d_3[0][0]']            \n",
            " g2D)                                                                                             \n",
            "                                                                                                  \n",
            " max_pooling2d_4 (MaxPoolin  (None, 14, 14, 32)           0         ['conv2d_4[0][0]']            \n",
            " g2D)                                                                                             \n",
            "                                                                                                  \n",
            " concatenate_1 (Concatenate  (None, 14, 14, 64)           0         ['max_pooling2d_3[0][0]',     \n",
            " )                                                                   'max_pooling2d_4[0][0]']     \n",
            "                                                                                                  \n",
            " conv2d_5 (Conv2D)           (None, 12, 12, 64)           36928     ['concatenate_1[0][0]']       \n",
            "                                                                                                  \n",
            " max_pooling2d_5 (MaxPoolin  (None, 6, 6, 64)             0         ['conv2d_5[0][0]']            \n",
            " g2D)                                                                                             \n",
            "                                                                                                  \n",
            " flatten_1 (Flatten)         (None, 2304)                 0         ['max_pooling2d_5[0][0]']     \n",
            "                                                                                                  \n",
            " dense_1 (Dense)             (None, 128)                  295040    ['flatten_1[0][0]']           \n",
            "                                                                                                  \n",
            " dense_2 (Dense)             (None, 10)                   1290      ['dense_1[0][0]']             \n",
            "                                                                                                  \n",
            "==================================================================================================\n",
            "Total params: 334410 (1.28 MB)\n",
            "Trainable params: 334410 (1.28 MB)\n",
            "Non-trainable params: 0 (0.00 Byte)\n",
            "__________________________________________________________________________________________________\n"
          ]
        }
      ],
      "source": [
        "# Ejemplo 2:\n",
        "import tensorflow as tf\n",
        "from tensorflow.keras import layers, models, Model\n",
        "\n",
        "# Definir la entrada\n",
        "inputs = tf.keras.Input(shape=(28, 28, 1))\n",
        "\n",
        "# Primera rama\n",
        "x1 = layers.Conv2D(32, (3, 3), activation='relu', padding='same')(inputs)\n",
        "x1 = layers.MaxPooling2D((2,2))(x1)\n",
        "\n",
        "# Segunda rama\n",
        "x2 = layers.Conv2D(32, (5, 5), activation='relu', padding='same')(inputs)\n",
        "x2 = layers.MaxPooling2D((2, 2))(x2)\n",
        "\n",
        "# Concatenar ambas ramas\n",
        "concatenated = layers.concatenate([x1, x2])\n",
        "\n",
        "# Capas siguientes después de la concatenación\n",
        "x = layers.Conv2D(64, (3, 3), activation='relu')(concatenated)\n",
        "x = layers.MaxPooling2D((2, 2))(x)\n",
        "x = layers.Flatten()(x)\n",
        "x = layers.Dense(128, activation='relu')(x)\n",
        "outputs = layers.Dense(10, activation='softmax')(x)\n",
        "\n",
        "# Crear el modelo\n",
        "model = Model(inputs=inputs, outputs=outputs)\n",
        "\n",
        "# Guardar el modelo en un archivo .h5\n",
        "model.save('branched_model.keras')\n",
        "\n",
        "# Mostrar la arquitectura del modelo\n",
        "model.summary()"
      ]
    },
    {
      "cell_type": "markdown",
      "metadata": {
        "id": "OOpXgJXHfEOr"
      },
      "source": []
    }
  ],
  "metadata": {
    "colab": {
      "provenance": [],
      "gpuType": "T4",
      "include_colab_link": true
    },
    "kernelspec": {
      "display_name": "Python 3",
      "name": "python3"
    },
    "language_info": {
      "codemirror_mode": {
        "name": "ipython",
        "version": 3
      },
      "file_extension": ".py",
      "mimetype": "text/x-python",
      "name": "python",
      "nbconvert_exporter": "python",
      "pygments_lexer": "ipython3",
      "version": "3.10.14"
    },
    "accelerator": "GPU"
  },
  "nbformat": 4,
  "nbformat_minor": 0
}